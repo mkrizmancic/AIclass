{
 "cells": [
  {
   "cell_type": "markdown",
   "metadata": {},
   "source": [
    "# Numpy tutorial\n",
    "\n",
    "This tutorial will help you get acquainted with the numpy python library as quickly as possible. This help you to better understand the python code of the lab assignment and also enable you to use the functionality implemented in numpy to make your own code simpler and more elegant.\n",
    "\n"
   ]
  },
  {
   "cell_type": "code",
   "execution_count": 89,
   "metadata": {
    "collapsed": true
   },
   "outputs": [],
   "source": [
    "import numpy as np # very important, none of the chunks below will work without this"
   ]
  },
  {
   "cell_type": "markdown",
   "metadata": {},
   "source": [
    "## Creating vectors and matrices\n",
    "\n",
    "To create a vector or matrix you use the [array](http://docs.scipy.org/doc/numpy-1.10.0/reference/generated/numpy.array.html) function. The input to the function is a list of lists. the inner lists represent rows of a matrix. This way we can define both row and column vectors (which are just special cases of a matrix) as \n",
    "well as full matrices. If you want to get the shape of a matrix you can access its shape attribute. Here are some examples: "
   ]
  },
  {
   "cell_type": "code",
   "execution_count": 90,
   "metadata": {
    "collapsed": false
   },
   "outputs": [
    {
     "name": "stdout",
     "output_type": "stream",
     "text": [
      "[[1 2]\n",
      " [3 4]\n",
      " [5 6]]\n",
      "Shape of the matrix is  (3L, 2L)\n",
      "\n",
      "[2 4 6]\n",
      "\n",
      "[[3]\n",
      " [5]\n",
      " [7]]\n",
      "\n"
     ]
    }
   ],
   "source": [
    "full_matrix = np.array([[1,2],[3,4],[5,6]])\n",
    "print full_matrix\n",
    "print \"Shape of the matrix is \", full_matrix.shape\n",
    "print\n",
    "\n",
    "# passing in [[2,4,6]] (extra outer []) also works but the extra [] are optional when there is only 1 row\n",
    "row_vector = np.array([2,4,6]) \n",
    "print row_vector\n",
    "print\n",
    "\n",
    "# this column vector is a matrix with 3 rows and 1 column\n",
    "column_vector = np.array([[3],[5],[7]])\n",
    "print column_vector\n",
    "print"
   ]
  },
  {
   "cell_type": "markdown",
   "metadata": {},
   "source": [
    "At times you may want to generate a matrix of a desired shape containing only [zeros](http://docs.scipy.org/doc/numpy-1.10.1/reference/generated/numpy.zeros.html) or [ones](http://docs.scipy.org/doc/numpy-1.10.1/reference/generated/numpy.ones.html). You can do this as follows:"
   ]
  },
  {
   "cell_type": "code",
   "execution_count": 91,
   "metadata": {
    "collapsed": false
   },
   "outputs": [
    {
     "name": "stdout",
     "output_type": "stream",
     "text": [
      "[[ 0.  0.  0.]\n",
      " [ 0.  0.  0.]]\n",
      "\n",
      "[[ 1.  1.  1.  1.  1.]\n",
      " [ 1.  1.  1.  1.  1.]\n",
      " [ 1.  1.  1.  1.  1.]]\n"
     ]
    }
   ],
   "source": [
    "zeros2x3 = np.zeros((2,3))\n",
    "print zeros2x3\n",
    "print\n",
    "\n",
    "ones3x5 = np.ones((3,5))\n",
    "print ones3x5"
   ]
  },
  {
   "cell_type": "markdown",
   "metadata": {},
   "source": [
    "## Slicing, rearanging and combining matrices \n",
    "\n",
    "The same indexing tricks you can use for lists also apply to vector and matrix indices. The only difference is the when applying indexing to a matrix you are working with two indices at the same time. Here are some examples:"
   ]
  },
  {
   "cell_type": "code",
   "execution_count": 92,
   "metadata": {
    "collapsed": false
   },
   "outputs": [
    {
     "name": "stdout",
     "output_type": "stream",
     "text": [
      "Original:\n",
      "[[ 1  2  3  4]\n",
      " [ 5  6  7  8]\n",
      " [ 9 10 11 12]]\n",
      "\n",
      "First two rows:\n",
      "[[1 2 3 4]\n",
      " [5 6 7 8]]\n",
      "\n",
      "Last two rows:\n",
      "[[ 5  6  7  8]\n",
      " [ 9 10 11 12]]\n",
      "\n",
      "First three columns:\n",
      "[[ 1  2  3]\n",
      " [ 5  6  7]\n",
      " [ 9 10 11]]\n",
      "\n",
      "Second and third element of the first row:\n",
      "[2 3]\n",
      "The second column:\n",
      "[[ 2]\n",
      " [ 6]\n",
      " [10]]\n"
     ]
    }
   ],
   "source": [
    "m = np.array([[1,2,3,4],[5,6,7,8],[9,10,11,12]])\n",
    "print \"Original:\"\n",
    "print m\n",
    "print\n",
    "\n",
    "\n",
    "print \"First two rows:\"\n",
    "print m[0:2,:] # note how 0:2 actually means the list of indexes [0,1,2]\n",
    "# in general you will supply an expression of form M:N, but there are defaults\n",
    "# no M supplied defaults to 0\n",
    "# no N supplied defaults to the size of the matrix in the corresponding dimension\n",
    "# so the lonely : in the line above actually means 0:4 (since there are 4 columns total)\n",
    "print\n",
    "\n",
    "print \"Last two rows:\"\n",
    "print m[-2:,:]\n",
    "print\n",
    "\n",
    "print \"First three columns:\"\n",
    "print m[:,0:3]\n",
    "print \n",
    "\n",
    "print \"Second and third element of the first row:\"\n",
    "print m[0,1:3]\n",
    "\n",
    "print \"The second column:\"\n",
    "print m[:,[1]] # the 1 doesnt have to be enclosed in [] (this makes it a list ) but if not you will get unexpected results, try!\n"
   ]
  },
  {
   "cell_type": "markdown",
   "metadata": {},
   "source": [
    "If you want to combine two vectors or matrices the [append](http://docs.scipy.org/doc/numpy-1.10.1/reference/generated/numpy.append.html) function is what you want."
   ]
  },
  {
   "cell_type": "code",
   "execution_count": 93,
   "metadata": {
    "collapsed": false
   },
   "outputs": [
    {
     "name": "stdout",
     "output_type": "stream",
     "text": [
      "[1 2 3 4 5 6]\n"
     ]
    }
   ],
   "source": [
    "vec1 = np.array([1,2,3])\n",
    "vec2 = np.array([4,5,6])\n",
    "vec3 = np.append(vec1,vec2)\n",
    "print vec3"
   ]
  },
  {
   "cell_type": "markdown",
   "metadata": {},
   "source": [
    "You can also stack matrices together with [hstack](http://docs.scipy.org/doc/numpy-1.10.1/reference/generated/numpy.hstack.html) or [vstack](http://docs.scipy.org/doc/numpy-1.10.1/reference/generated/numpy.vstack.html):"
   ]
  },
  {
   "cell_type": "code",
   "execution_count": 94,
   "metadata": {
    "collapsed": false
   },
   "outputs": [
    {
     "name": "stdout",
     "output_type": "stream",
     "text": [
      "Mat1\n",
      "[[1 2]\n",
      " [3 4]]\n",
      "\n",
      "Mat2\n",
      "[[5 6]\n",
      " [7 8]]\n",
      "\n",
      "Horizontally stacked\n",
      "[[1 2 5 6]\n",
      " [3 4 7 8]]\n",
      "Vertically stacked\n",
      "[[1 2]\n",
      " [3 4]\n",
      " [5 6]\n",
      " [7 8]]\n"
     ]
    }
   ],
   "source": [
    "mat1 = np.array([[1,2],[3,4]])\n",
    "mat2 = np.array([[5,6],[7,8]])\n",
    "print \"Mat1\"\n",
    "print mat1\n",
    "print \n",
    "print \"Mat2\"\n",
    "print mat2\n",
    "print\n",
    "\n",
    "print \"Horizontally stacked\"\n",
    "print np.hstack((mat1,mat2))\n",
    "\n",
    "print \"Vertically stacked\"\n",
    "print np.vstack((mat1,mat2))"
   ]
  },
  {
   "cell_type": "markdown",
   "metadata": {},
   "source": [
    "It's possible to [reshape](http://docs.scipy.org/doc/numpy-1.10.1/reference/generated/numpy.reshape.html) matrices to any shape you like. Note that the number of elements in the original shape of the matrix and the new shape must remain the same. The elements will be copied to the new matrix in the same order they appear in the original matrix."
   ]
  },
  {
   "cell_type": "code",
   "execution_count": 95,
   "metadata": {
    "collapsed": false
   },
   "outputs": [
    {
     "name": "stdout",
     "output_type": "stream",
     "text": [
      "[[ 1  2  3  4]\n",
      " [ 5  6  7  8]\n",
      " [ 9 10 11 12]]\n",
      "\n",
      "[[ 1  2  3  4  5  6]\n",
      " [ 7  8  9 10 11 12]]\n",
      "\n"
     ]
    }
   ],
   "source": [
    "mat = np.array([[1,2,3,4],[5,6,7,8],[9,10,11,12]])\n",
    "print mat\n",
    "print\n",
    "\n",
    "mat_reshaped = np.reshape(mat, (2,6))\n",
    "print mat_reshaped\n",
    "print"
   ]
  },
  {
   "cell_type": "markdown",
   "metadata": {},
   "source": [
    "Finally transposing a matrix is simple with the [transpose](http://docs.scipy.org/doc/numpy-1.10.1/reference/generated/numpy.transpose.html) function."
   ]
  },
  {
   "cell_type": "code",
   "execution_count": 96,
   "metadata": {
    "collapsed": false
   },
   "outputs": [
    {
     "name": "stdout",
     "output_type": "stream",
     "text": [
      "[[1 2]\n",
      " [3 4]]\n",
      "\n",
      "[[1 3]\n",
      " [2 4]]\n"
     ]
    }
   ],
   "source": [
    "mat1 = np.array([[1,2],[3,4]])\n",
    "print mat1\n",
    "print\n",
    "print np.transpose(mat1)"
   ]
  },
  {
   "cell_type": "markdown",
   "metadata": {},
   "source": [
    "## Randomization"
   ]
  },
  {
   "cell_type": "markdown",
   "metadata": {},
   "source": [
    "Sometimes, usually when initializing various iterative procedures, you may want to get a matrix or vector initialized with random values. You can do this by using the [randn](http://docs.scipy.org/doc/numpy-1.10.1/reference/generated/numpy.random.randn.html) function. You will get a matrix filled with samples drawn from the standard (zero mean and unit variance) normal distribution. "
   ]
  },
  {
   "cell_type": "code",
   "execution_count": 97,
   "metadata": {
    "collapsed": false
   },
   "outputs": [
    {
     "name": "stdout",
     "output_type": "stream",
     "text": [
      "[[ 0.48155593  0.37331691 -0.38326233]\n",
      " [-1.74887651  0.67281163  0.36078809]\n",
      " [-1.77778357  0.88498059 -0.41119869]\n",
      " [-0.40537171  0.07029259 -1.07127615]]\n",
      "\n"
     ]
    }
   ],
   "source": [
    "random_matrix = np.random.randn(4,3)\n",
    "print random_matrix\n",
    "print"
   ]
  },
  {
   "cell_type": "markdown",
   "metadata": {},
   "source": [
    "You can draw samples from a list with respect to a given distribution using the [choice](http://docs.scipy.org/doc/numpy-1.10.1/reference/generated/numpy.random.choice.html) function."
   ]
  },
  {
   "cell_type": "code",
   "execution_count": 98,
   "metadata": {
    "collapsed": false
   },
   "outputs": [
    {
     "name": "stdout",
     "output_type": "stream",
     "text": [
      "['Neo' 'Neo' 'Neo' 'Neo' 'Batman']\n"
     ]
    }
   ],
   "source": [
    "guys = [\"Batman\", \"Superman\", \"Neo\"]\n",
    "probs = [0.2, 0.1, 0.7] # Batman 20%, Superman 10% and Neo, naturally, 70%\n",
    "\n",
    "chosen = np.random.choice(guys, 5, replace=True, p=probs) # we draw someone 5 times, according to the above probabilities\n",
    "# the list chosen will contain a result for each of the 5 draws\n",
    "print chosen\n"
   ]
  },
  {
   "cell_type": "markdown",
   "metadata": {},
   "source": [
    "As far as random number generators go you may want to have a look at the [random](http://docs.scipy.org/doc/numpy-1.10.1/reference/generated/numpy.random.random.html) and [randint](http://docs.scipy.org/doc/numpy-1.10.1/reference/generated/numpy.random.randint.html) functions as well."
   ]
  },
  {
   "cell_type": "markdown",
   "metadata": {},
   "source": [
    "## Aggregation\n",
    "\n",
    "Very often you will need to calculate an aggregated measure on a matrix object, such as sums or averages. Useful functions to use in those cases are [mean](http://docs.scipy.org/doc/numpy-1.10.1/reference/generated/numpy.mean.html), [std](http://docs.scipy.org/doc/numpy-1.10.1/reference/generated/numpy.std.html) and [sum](http://docs.scipy.org/doc/numpy-1.10.1/reference/generated/numpy.sum.html). You can use these functions on vectors as well."
   ]
  },
  {
   "cell_type": "code",
   "execution_count": 99,
   "metadata": {
    "collapsed": false
   },
   "outputs": [
    {
     "name": "stdout",
     "output_type": "stream",
     "text": [
      "Row sums: [15 18 21 24]\n",
      "Column sums: [10 26 42]\n",
      "Total sum: 78\n",
      "\n",
      "Row means: [ 5.  6.  7.  8.]\n",
      "Column means: [  2.5   6.5  10.5]\n",
      "Total mean: 6.5\n",
      "\n",
      "Row deviations: [ 3.26598632  3.26598632  3.26598632  3.26598632]\n",
      "Column deviations: [ 1.11803399  1.11803399  1.11803399]\n",
      "Total deviation: 3.45205252953\n"
     ]
    }
   ],
   "source": [
    "mat = np.array([[1,2,3,4],[5,6,7,8],[9,10,11,12]])\n",
    "\n",
    "print \"Row sums:\", np.sum(mat, axis = 0)\n",
    "print \"Column sums:\", np.sum(mat, axis = 1)\n",
    "print \"Total sum:\", np.sum(mat)\n",
    "print\n",
    "print \"Row means:\", np.mean(mat, axis = 0)\n",
    "print \"Column means:\", np.mean(mat, axis = 1)\n",
    "print \"Total mean:\", np.mean(mat)\n",
    "print\n",
    "print \"Row deviations:\", np.std(mat, axis = 0)\n",
    "print \"Column deviations:\", np.std(mat, axis = 1)\n",
    "print \"Total deviation:\", np.std(mat)\n"
   ]
  },
  {
   "cell_type": "markdown",
   "metadata": {},
   "source": [
    "## Matrix arithmetic\n",
    "\n",
    "Being a numerical math library numpy offers excellent support for math operations on vectors and matrices."
   ]
  },
  {
   "cell_type": "code",
   "execution_count": 102,
   "metadata": {
    "collapsed": false
   },
   "outputs": [
    {
     "name": "stdout",
     "output_type": "stream",
     "text": [
      "mat\n",
      "[[ 1  2  3]\n",
      " [ 5  6  7]\n",
      " [ 9 10 11]]\n",
      "\n",
      "v1\n",
      "[[1]\n",
      " [2]\n",
      " [3]]\n",
      "\n",
      "v2\n",
      "[[2]\n",
      " [3]\n",
      " [4]]\n",
      "\n",
      "v1 * 5 (multiply vector by scalar)\n",
      "[[ 5]\n",
      " [10]\n",
      " [15]]\n",
      "\n",
      "v1+v2\n",
      "[[3]\n",
      " [5]\n",
      " [7]]\n",
      "\n",
      "v1*v2 (multiplication)\n",
      "[[ 2]\n",
      " [ 6]\n",
      " [12]]\n",
      "\n",
      "v1^T x v2 (dot product)\n",
      "[[20]]\n",
      "\n",
      "matrix x vector multiplication\n",
      "[[14]\n",
      " [38]\n",
      " [62]]\n",
      "\n",
      "matrix x matrix multiplication\n",
      "[[ 38  44  50]\n",
      " [ 98 116 134]\n",
      " [158 188 218]]\n",
      "\n"
     ]
    }
   ],
   "source": [
    "mat = np.array([[1,2,3],[5,6,7],[9,10,11]])\n",
    "print \"mat\"\n",
    "print mat\n",
    "print\n",
    "v1 = np.array([[1],[2],[3]])\n",
    "print \"v1\"\n",
    "print v1\n",
    "print\n",
    "v2 = np.array([[2],[3],[4]])\n",
    "print \"v2\"\n",
    "print v2\n",
    "print\n",
    "print \"v1 * 5 (multiply vector by scalar)\"\n",
    "print v1*5\n",
    "print\n",
    "print \"v1+v2\" \n",
    "print v1+v2\n",
    "print\n",
    "print \"v1*v2 (multiplication)\"\n",
    "print v1*v2 # memberwise multiplication\n",
    "print \n",
    "print \"v1^T x v2 (dot product)\"\n",
    "print np.dot(np.transpose(v1),v2)\n",
    "print \n",
    "print \"matrix x vector multiplication\"\n",
    "print np.dot(mat,v1)\n",
    "print\n",
    "print \"matrix x matrix multiplication\"\n",
    "print np.dot(mat,mat) # mat^2\n",
    "print"
   ]
  },
  {
   "cell_type": "markdown",
   "metadata": {},
   "source": [
    "## Some other useful math functionality\n",
    "\n",
    "The most important are [tanh](http://docs.scipy.org/doc/numpy-1.10.1/reference/generated/numpy.tanh.html) and [exp](http://docs.scipy.org/doc/numpy-1.10.1/reference/generated/numpy.exp.html). You can also keep in mind that a logical expression will have a numerical value of 1 if satisfied and zero otherwise and you can use this in any calculation. Here's an example"
   ]
  },
  {
   "cell_type": "code",
   "execution_count": 103,
   "metadata": {
    "collapsed": false
   },
   "outputs": [
    {
     "name": "stdout",
     "output_type": "stream",
     "text": [
      "-0.0\n",
      "-0.0\n",
      "0.0\n",
      "0.75\n",
      "1.0\n",
      "0.75\n",
      "0.0\n",
      "-0.0\n",
      "-0.0\n"
     ]
    }
   ],
   "source": [
    "# we want f(x) to be (1 - x^2) if x is between -1 and 1 and zero otherwise, this can be implemented as\n",
    "def f(x):\n",
    "    return (x > -1 and x < 1) * (1 - x**2)\n",
    "\n",
    "print f(-2.0)\n",
    "print f(-1.1)\n",
    "print f(-1.0)\n",
    "print f(-0.5)\n",
    "print f(0.0)\n",
    "print f(0.5)\n",
    "print f(1.0)\n",
    "print f(1.1)\n",
    "print f(2.0)\n",
    "\n",
    "\n",
    "\n"
   ]
  }
 ],
 "metadata": {
  "kernelspec": {
   "display_name": "Python 2",
   "language": "python",
   "name": "python2"
  },
  "language_info": {
   "codemirror_mode": {
    "name": "ipython",
    "version": 2
   },
   "file_extension": ".py",
   "mimetype": "text/x-python",
   "name": "python",
   "nbconvert_exporter": "python",
   "pygments_lexer": "ipython2",
   "version": "2.7.11"
  }
 },
 "nbformat": 4,
 "nbformat_minor": 0
}
